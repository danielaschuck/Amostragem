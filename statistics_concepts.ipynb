{
  "nbformat": 4,
  "nbformat_minor": 0,
  "metadata": {
    "colab": {
      "provenance": []
    },
    "kernelspec": {
      "name": "python3",
      "display_name": "Python 3"
    },
    "language_info": {
      "name": "python"
    }
  },
  "cells": [
    {
      "cell_type": "markdown",
      "source": [
        "# Variância\n",
        "\n",
        "A variância mede o quão dispersos estão os valores de um conjunto de dados em relação à média. É calculada como a média dos quadrados das diferenças entre cada valor e a média do conjunto.\n",
        "\n",
        "# Desvio Padrão:\n",
        "\n",
        "O desvio padrão é uma medida de dispersão que indica o quão distantes os valores de um conjunto de dados estão em relação à média. É a raiz quadrada da variância."
      ],
      "metadata": {
        "id": "Rt-3oWlHMk8r"
      }
    },
    {
      "cell_type": "code",
      "source": [
        "import numpy as np\n",
        "\n",
        "data = [1, 2, 3, 4, 5]\n",
        "\n",
        "variancia = np.var(data)  # Variância da população\n",
        "variancia_amostra = np.var(data, ddof=1)  # Variância da amostra\n",
        "\n",
        "desvio_padrao = np.std(data)  # Desvio padrão da população\n",
        "desvio_padrao_amostra = np.std(data, ddof=1)  # Desvio padrão da amostra\n",
        "\n",
        "print(f\"Variância: {variancia}\")\n",
        "print(f\"Variância da amostra: {variancia_amostra}\")\n",
        "print(f\"Desvio padrão: {desvio_padrao}\")\n",
        "print(f\"Desvio padrão da amostra: {desvio_padrao_amostra}\")\n"
      ],
      "metadata": {
        "id": "3_YYtRr3M2Pj"
      },
      "execution_count": null,
      "outputs": []
    },
    {
      "cell_type": "markdown",
      "source": [
        "# Quartil:\n",
        "Quartis são valores que dividem um conjunto de dados em quatro partes iguais. O primeiro quartil (Q1) é o ponto abaixo do qual 25% dos dados se encontram, o segundo quartil (Q2) é a mediana (50%), e o terceiro quartil (Q3) é o ponto abaixo do qual 75% dos dados se encontram.\n",
        " para determinar Q1, Q2 (mediana) e Q3.\n",
        "Q1 = 25º percentil, Q2 = 50º percentil (mediana), Q3 = 75º percentil.\n",
        "\n",
        "# Percentil:\n",
        "\n",
        "Percentis são valores que dividem um conjunto de dados em 100 partes iguais. Por exemplo, o percentil 90 é o valor abaixo do qual 90% dos dados se encontram.\n",
        "\n",
        "# Diferença\n",
        "Quartis e percentis são ambos métodos para dividir um conjunto de dados ordenados em partes, mas a diferença entre eles está no número de divisões e na granularidade dessas divisões.\n",
        "\n",
        "# Outliers\n",
        "Sao valores foras do comum , se tiver um acima do outlier superior é um valor fora do comum e abaixo do lower bound tambem"
      ],
      "metadata": {
        "id": "EooSAC1eM3qq"
      }
    },
    {
      "cell_type": "markdown",
      "source": [],
      "metadata": {
        "id": "erTDL6eVNlMc"
      }
    },
    {
      "cell_type": "code",
      "source": [
        "import numpy as np\n",
        "\n",
        "data = [1, 2, 3, 4, 5]\n",
        "\n",
        "Q1 = np.quantile(data, 0.25)\n",
        "Q2 = np.quantile(data, 0.50)  # Mediana\n",
        "Q3 = np.quantile(data, 0.75)\n",
        "P90 = np.percentile(data, 90)\n",
        "\n",
        "# Calculando a diferença interquartil\n",
        "IQR = Q3 - Q1\n",
        "\n",
        "print(f\"Q1: {Q1}\")\n",
        "print(f\"Mediana (Q2): {Q2}\")\n",
        "print(f\"Q3: {Q3}\")\n",
        "print(f\"90º percentil: {P90}\")\n",
        "print(f\"Diferença Interquartil (IQR): {IQR}\")\n",
        "\n",
        "# Calculando os limites para detectar outliers\n",
        "lower_bound = Q1 - 1.5 * IQR\n",
        "upper_bound = Q3 + 1.5 * IQR"
      ],
      "metadata": {
        "id": "mMchKdKqNVfz"
      },
      "execution_count": null,
      "outputs": []
    },
    {
      "cell_type": "markdown",
      "source": [
        "# A média geométrica\n",
        "A média geométrica é uma maneira de calcular a média de um conjunto de números que é mais adequada para dados que se multiplicam ou crescem a uma taxa constante.\n",
        "\n",
        "Como calcular:\n",
        "**Multiplique todos os valores do conjunto.**\n",
        "**Tire a raiz enésima desse produto, onde \"n\" é o número total de valores**."
      ],
      "metadata": {
        "id": "as4yj9l9OOs5"
      }
    },
    {
      "cell_type": "code",
      "source": [
        "from scipy.stats import gmean\n",
        "\n",
        "data = [1, 2, 3, 4, 5]\n",
        "\n",
        "media_geometrica = gmean(data)\n",
        "\n",
        "print(f\"Média Geométrica: {media_geometrica}\")\n"
      ],
      "metadata": {
        "id": "Mbnr0bP3OiML"
      },
      "execution_count": null,
      "outputs": []
    },
    {
      "cell_type": "markdown",
      "source": [
        "# Média Harmônica\n",
        "A média harmônica é uma maneira de calcular a média que é especialmente útil quando os dados são taxas ou razões.\n",
        "\n",
        "**Como calcular:**\n",
        "\n",
        "Pegue o inverso de cada valor (1 dividido pelo valor).\n",
        "Calcule a média aritmética desses inversos.\n",
        "Pegue o inverso do resultado obtido no passo 2.\n",
        "Exemplo:\n",
        "Para os valores 1, 2, 4:\n",
        "\n",
        "Inversos:\n",
        "1\n",
        ",\n",
        "1/\n",
        "2\n",
        ",\n",
        "1/\n",
        "4\n",
        "1,\n",
        "2/\n",
        "1\n",
        "​\n",
        " ,\n",
        "4/\n",
        "1\n",
        "​\n",
        "\n",
        "Média aritmética dos inversos:\n",
        "(1\n",
        "+\n",
        "1/\n",
        "2\n",
        "+\n",
        "1/\n",
        "4)//\n",
        "3\n",
        "=\n",
        "1.75/\n",
        "3\n",
        "≈\n",
        "0.583\n",
        "\n",
        "Inverso de 0.583:\n",
        "\n",
        "1/\n",
        "0.583\n",
        "≈\n",
        "1.714\n"
      ],
      "metadata": {
        "id": "Ktuh3FRgOtrl"
      }
    },
    {
      "cell_type": "code",
      "source": [
        "from scipy.stats import hmean\n",
        "\n",
        "data = [1, 2, 3, 4, 5]\n",
        "\n",
        "media_harmonica = hmean(data)\n",
        "\n",
        "print(f\"Média Harmônica: {media_harmonica}\")\n"
      ],
      "metadata": {
        "id": "a0fxCJ26PmXm"
      },
      "execution_count": null,
      "outputs": []
    },
    {
      "cell_type": "markdown",
      "source": [
        "# Média Quadrática (ou Média das Raízes Quadradas):\n",
        "\n",
        "A média quadrática é a raiz quadrada da média dos quadrados dos valores de um conjunto de dados. É especialmente útil quando se quer enfatizar valores maiores.\n",
        "Média Quadrática\n",
        "A média quadrática (ou média das raízes quadradas) é útil quando você quer enfatizar valores maiores em um conjunto de dados.\n",
        "\n",
        "Como calcular:\n",
        "Eleve cada valor ao quadrado.\n",
        "Calcule a média desses quadrados.\n",
        "Tire a raiz quadrada do resultado obtido no passo 2.\n",
        "Exemplo:\n",
        "Para os valores 1, 2, 3:\n",
        "\n",
        "Quadrados:\n",
        "1^\n",
        "2\n",
        ",\n",
        "2^\n",
        "2\n",
        ",\n",
        "3^\n",
        "2\n",
        "=\n",
        "1\n",
        ",\n",
        "4,\n",
        "9\n",
        "\n",
        "Média dos quadrados:\n",
        "(1+4+9)//3\n",
        "=\n",
        "4.67\n",
        "\n",
        "\n",
        "Raiz quadrada de 4.67:\n",
        "\n",
        "4.67\n",
        "≈\n",
        "2.16\n"
      ],
      "metadata": {
        "id": "X1wVwRjmQBA9"
      }
    },
    {
      "cell_type": "code",
      "source": [
        "import numpy as np\n",
        "\n",
        "data = [1, 2, 3, 4, 5]\n",
        "\n",
        "media_quadratica = np.sqrt(np.mean(np.square(data)))\n",
        "\n",
        "print(f\"Média Quadrática: {media_quadratica}\")\n"
      ],
      "metadata": {
        "id": "r9MpzRmmQ4Li"
      },
      "execution_count": null,
      "outputs": []
    },
    {
      "cell_type": "markdown",
      "source": [
        "# Variância\n",
        "Definição: A variância mede a dispersão dos dados em relação à média. Indica o quão espalhados estão os valores em um conjunto de dados.\n",
        "Cálculo:\n",
        "Para uma população:\n",
        "\n",
        "𝜎\n",
        "2\n",
        "=\n",
        "1/𝑁\n",
        "∑\n",
        "𝑖=1(𝑥𝑖−𝜇)^2\n",
        "\n",
        "Onde\n",
        "x\n",
        "i\n",
        "​\n",
        "\n",
        " são os valores,\n",
        "\n",
        "\n",
        "μ é a média da população,\n",
        "\n",
        "x é a média da amostra,\n",
        "\n",
        "N é o tamanho da população e\n",
        "\n",
        "n é o tamanho da amostra.\n",
        "\n",
        "Uso: Utilizada para entender a variabilidade dos dados; valores maiores indicam maior dispersão."
      ],
      "metadata": {
        "id": "Y825Lq_ZWtM1"
      }
    },
    {
      "cell_type": "code",
      "source": [
        "import numpy as np\n",
        "\n",
        "# Conjunto de dados\n",
        "data = [1, 2, 3, 4, 5]\n",
        "\n",
        "# Calculando a variância para a população\n",
        "variancia_populacao = np.var(data)\n",
        "\n",
        "# Calculando a variância para a amostra\n",
        "variancia_amostra = np.var(data, ddof=1)\n",
        "#O DDOF é para ajustar o denominador n=1 que usamos na amostra\n",
        "\n",
        "print(f\"Variância (População): {variancia_populacao}\")\n",
        "print(f\"Variância (Amostra): {variancia_amostra}\")\n"
      ],
      "metadata": {
        "id": "eQzT6zB_Oc5d"
      },
      "execution_count": null,
      "outputs": []
    },
    {
      "cell_type": "code",
      "execution_count": null,
      "metadata": {
        "id": "8OSMKyxvMd10"
      },
      "outputs": [],
      "source": []
    }
  ]
}